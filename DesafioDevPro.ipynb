{
  "nbformat": 4,
  "nbformat_minor": 0,
  "metadata": {
    "colab": {
      "name": "DesafioDevPro.ipynb",
      "provenance": [],
      "collapsed_sections": [],
      "include_colab_link": true
    },
    "kernelspec": {
      "name": "python3",
      "display_name": "Python 3"
    },
    "language_info": {
      "name": "python"
    }
  },
  "cells": [
    {
      "cell_type": "markdown",
      "metadata": {
        "id": "view-in-github",
        "colab_type": "text"
      },
      "source": [
        "<a href=\"https://colab.research.google.com/github/renilsondevpro/anotacoes/blob/main/DesafioDevPro.ipynb\" target=\"_parent\"><img src=\"https://colab.research.google.com/assets/colab-badge.svg\" alt=\"Open In Colab\"/></a>"
      ]
    },
    {
      "cell_type": "markdown",
      "metadata": {
        "id": "8VcfKOf8Gxdl"
      },
      "source": [
        "# Desafio Devpro"
      ]
    },
    {
      "cell_type": "markdown",
      "metadata": {
        "id": "Vho07osRG7BK"
      },
      "source": [
        "Nesse notebook vamos resolver vários exercicios da [lista da Python Brasil](https://wiki.python.org.br/ListaDeExercicios)"
      ]
    },
    {
      "cell_type": "markdown",
      "metadata": {
        "id": "oK4zVel5HSUZ"
      },
      "source": [
        "# [Estrutura Sequencial](https://wiki.python.org.br/EstruturaSequencial)"
      ]
    },
    {
      "cell_type": "markdown",
      "metadata": {
        "id": "X-aHzpaZHasj"
      },
      "source": [
        "Exercício 1"
      ]
    },
    {
      "cell_type": "code",
      "metadata": {
        "colab": {
          "base_uri": "https://localhost:8080/"
        },
        "id": "qr89oejdGmlR",
        "outputId": "ace2de9e-a32f-473d-c32c-556fe8701c52"
      },
      "source": [
        "print('Olá Mundo')"
      ],
      "execution_count": null,
      "outputs": [
        {
          "output_type": "stream",
          "text": [
            "Olá Mundo\n"
          ],
          "name": "stdout"
        }
      ]
    },
    {
      "cell_type": "code",
      "metadata": {
        "colab": {
          "base_uri": "https://localhost:8080/"
        },
        "id": "GncXpH5RHyop",
        "outputId": "0e979d55-4efe-4cee-95c9-0ecf803f50bf"
      },
      "source": [
        "type('Olá Mundo')"
      ],
      "execution_count": null,
      "outputs": [
        {
          "output_type": "execute_result",
          "data": {
            "text/plain": [
              "str"
            ]
          },
          "metadata": {
            "tags": []
          },
          "execution_count": 2
        }
      ]
    },
    {
      "cell_type": "markdown",
      "metadata": {
        "id": "I91thql-IHUa"
      },
      "source": [
        "Exercício 2\n"
      ]
    },
    {
      "cell_type": "code",
      "metadata": {
        "colab": {
          "base_uri": "https://localhost:8080/"
        },
        "id": "T40EPPIgIBBj",
        "outputId": "623e0289-2885-4d23-d2af-0afcf004f32f"
      },
      "source": [
        "numero = input('Digite um número: ')\n",
        "print(f'O número informado foi {numero}')"
      ],
      "execution_count": null,
      "outputs": [
        {
          "output_type": "stream",
          "text": [
            "Digite um número: 852\n",
            "O número informado foi 852\n"
          ],
          "name": "stdout"
        }
      ]
    },
    {
      "cell_type": "markdown",
      "metadata": {
        "id": "aNQL2uWAJS-y"
      },
      "source": [
        "Exercício 3"
      ]
    },
    {
      "cell_type": "code",
      "metadata": {
        "colab": {
          "base_uri": "https://localhost:8080/"
        },
        "id": "y13bGneHIdJP",
        "outputId": "e06f818b-2b18-4d02-dce4-809537e0aab6"
      },
      "source": [
        "numero_1 = int(input('Digite um número: '))\n",
        "numero_2 = int(input('Digite outro número: '))\n",
        "soma = numero_1 + numero_2\n",
        "print(f'A soma dos dois números é {soma}')"
      ],
      "execution_count": null,
      "outputs": [
        {
          "output_type": "stream",
          "text": [
            "Digite um número: 12\n",
            "Digite outro número: 5\n",
            "A soma dos dois números é 17\n"
          ],
          "name": "stdout"
        }
      ]
    },
    {
      "cell_type": "markdown",
      "metadata": {
        "id": "dlKFixZgKQdH"
      },
      "source": [
        "Lição de Casa: exercício 17"
      ]
    },
    {
      "cell_type": "code",
      "metadata": {
        "colab": {
          "base_uri": "https://localhost:8080/"
        },
        "id": "tNW5KRuHJvH1",
        "outputId": "238eb653-dc88-44bf-9b60-902eeaa7b6b3"
      },
      "source": [
        "import math\n",
        "\n",
        "area_a_ser_pintada = int(input('Digite a área, em metros quadrados a ser pintada: '))  # area em metros quadrados\n",
        "area_com_folga = area_a_ser_pintada * 1.1\n",
        "litros_por_metro = 6\n",
        "litros_a_serem_usados = area_com_folga / litros_por_metro\n",
        "litros_por_lata = 18\n",
        "numero_de_latas = math.ceil(litros_a_serem_usados / litros_por_lata)\n",
        "valor_com_apenas_latas = numero_de_latas * 80\n",
        "print(f'Você deverá usar {numero_de_latas} latas de 18 litros, no valor de R$ {valor_com_apenas_latas}')\n",
        "\n",
        "litros_por_galao = 3.6\n",
        "numero_de_galoes = math.ceil(litros_a_serem_usados / litros_por_galao)\n",
        "valor_com_apenas_galoes = numero_de_galoes * 25\n",
        "print(f'Você deverá usar {numero_de_galoes} galões de 3.6 litros, no valor de R$ {valor_com_apenas_galoes}')\n",
        "\n",
        "# Compra de tinta otimizada por valor\n",
        "numero_de_latas = math.floor(litros_a_serem_usados / litros_por_lata)\n",
        "valor_de_latas = numero_de_latas * 80\n",
        "litros_faltantes = litros_a_serem_usados % litros_por_lata\n",
        "numero_de_galoes = math.ceil(litros_faltantes / litros_por_galao)\n",
        "valor_com_galoes = numero_de_galoes * 25\n",
        "\n",
        "valor_total = valor_de_latas + valor_com_galoes\n",
        "\n",
        "print(f'Você deverá usar {numero_de_latas} latas de 18 litros mais {numero_de_galoes} galões de 3.6 litros, no valor de R$ {valor_total}')\n",
        "\n"
      ],
      "execution_count": null,
      "outputs": [
        {
          "output_type": "stream",
          "text": [
            "Digite a área, em metros quadrados a ser pintada: 200\n",
            "Você deverá usar 3 latas de 18 litros, no valor de R$ 240\n",
            "Você deverá usar 11 galões de 3.6 litros, no valor de R$ 275\n",
            "Você deverá usar 2 latas de 18 litros mais 1 galões de 3.6 litros, no valor de R$ 185\n"
          ],
          "name": "stdout"
        }
      ]
    },
    {
      "cell_type": "markdown",
      "metadata": {
        "id": "ros1-yX5ybkg"
      },
      "source": [
        "# [Estrutura de Decisão](https://wiki.python.org.br/EstruturaDeDecisao)"
      ]
    },
    {
      "cell_type": "markdown",
      "metadata": {
        "id": "Q_5XXeDyymm-"
      },
      "source": [
        "Exercício 3\n"
      ]
    },
    {
      "cell_type": "code",
      "metadata": {
        "colab": {
          "base_uri": "https://localhost:8080/"
        },
        "id": "NperVDBtymDR",
        "outputId": "b9280348-09e4-4e6e-df47-0498a70b46ee"
      },
      "source": [
        "True, False\n",
        "print( 5 < 6)\n",
        "print( 5 >= 6)\n",
        "print( 5 == 6)\n",
        "print( 5 != 6)\n",
        "print( 'M' == 'A')\n",
        "print( 'M' == 'M')\n",
        "print( 'M' == 'm')\n",
        "print('Renzo'.lower(), 'Renzo'.upper())"
      ],
      "execution_count": null,
      "outputs": [
        {
          "output_type": "stream",
          "text": [
            "True\n",
            "False\n",
            "False\n",
            "True\n",
            "False\n",
            "True\n",
            "False\n",
            "renzo RENZO\n"
          ],
          "name": "stdout"
        }
      ]
    },
    {
      "cell_type": "code",
      "metadata": {
        "colab": {
          "base_uri": "https://localhost:8080/"
        },
        "id": "r9HtAbwA2lDP",
        "outputId": "873cfff4-55e2-427e-c2ea-0e713b81178d"
      },
      "source": [
        "sexo = input('Digite o seu sexo. (M para Masculino, F para Feminino, I para Indefinido): ').upper()\n",
        "if sexo == 'M':\n",
        "  print('Masculino')\n",
        "elif sexo == 'F':\n",
        "  print('Feminino')\n",
        "elif sexo == 'I':\n",
        "  print('Indefinido')\n",
        "else:\n",
        "  print('Sexo Inválido')\n",
        "\n",
        "\n",
        "\n",
        "print('Finalizou o programa')"
      ],
      "execution_count": null,
      "outputs": [
        {
          "output_type": "stream",
          "text": [
            "Digite o seu sexo. (M para Masculino, F para Feminino, I para Indefinido): lkjhawdfkjashsfkljsfd\n",
            "Sexo Inválido\n",
            "Finalizou o programa\n"
          ],
          "name": "stdout"
        }
      ]
    },
    {
      "cell_type": "markdown",
      "metadata": {
        "id": "1z-KqaygC-0T"
      },
      "source": [
        "Exercício 5\n"
      ]
    },
    {
      "cell_type": "code",
      "metadata": {
        "colab": {
          "base_uri": "https://localhost:8080/"
        },
        "id": "L9sq1RPzDBDO",
        "outputId": "5e2bcd48-13ca-40eb-f733-ee55bc0172eb"
      },
      "source": [
        "nota_1 = float(input('Digite a primeira nota: '))\n",
        "nota_2 = float(input('Digite a segunda nota: '))\n",
        "media = (nota_1 + nota_2) / 2\n",
        "print(f'Sua média foi: {media}')\n",
        "if media >= 10:\n",
        "  print('Aprovado com Distinção')\n",
        "elif media >= 7:\n",
        "  print('Aprovado')\n",
        "else:\n",
        "  print('Reprovado')"
      ],
      "execution_count": null,
      "outputs": [
        {
          "output_type": "stream",
          "text": [
            "Digite a primeira nota: 9.5\n",
            "Digite a segunda nota: 5\n",
            "Sua média foi: 7.25\n",
            "Aprovado\n"
          ],
          "name": "stdout"
        }
      ]
    },
    {
      "cell_type": "markdown",
      "metadata": {
        "id": "o-KgtULWVgGK"
      },
      "source": [
        "Exercício 19"
      ]
    },
    {
      "cell_type": "code",
      "metadata": {
        "colab": {
          "base_uri": "https://localhost:8080/"
        },
        "id": "9emIcIPiVhao",
        "outputId": "7129180a-74ef-4e0e-edee-04a019f2bbbc"
      },
      "source": [
        "numero = 22\n",
        "centenas_str = dezenas_str = unidades_str = ''\n",
        "\n",
        "centenas_int, numero = divmod(numero, 100)\n",
        "\n",
        "partes_numericas=0\n",
        "\n",
        "if centenas_int == 1:\n",
        "  centenas_str = '1 centena'\n",
        "  partes_numericas += 1\n",
        "elif centenas_int > 1:\n",
        "  centenas_str = f'{centenas_int} centenas'\n",
        "  partes_numericas += 1\n",
        "\n",
        "dezenas_int, numero = divmod(numero, 10)\n",
        "\n",
        "if dezenas_int == 1:\n",
        "  dezenas_str = '1 dezena'\n",
        "  partes_numericas += 1\n",
        "elif dezenas_int > 1:\n",
        "  dezenas_str = f'{dezenas_int} dezenas'\n",
        "  partes_numericas += 1\n",
        "\n",
        "if numero == 1:\n",
        "  unidades_str = '1 unidade'\n",
        "  partes_numericas += 1\n",
        "elif numero > 1:\n",
        "  unidades_str = f'{numero} unidades'\n",
        "  partes_numericas += 1\n",
        "\n",
        "if partes_numericas == 0:\n",
        "  print('Número 0 não possui centenas, dezenas ou unidades')\n",
        "elif partes_numericas == 1:\n",
        "  print(centenas_str + dezenas_str + unidades_str)\n",
        "elif partes_numericas == 3:\n",
        "  print(f'{centenas_str}, {dezenas_str} e {unidades_str}')\n",
        "elif partes_numericas == 2:\n",
        "  if centenas_str != '':\n",
        "    segunda_parte = dezenas_str + unidades_str\n",
        "    print(f'{centenas_str} e {segunda_parte}')\n",
        "  else:\n",
        "    print(f'{dezenas_str} e {unidades_str}')\n"
      ],
      "execution_count": null,
      "outputs": [
        {
          "output_type": "stream",
          "text": [
            "2 dezenas e 2 unidades\n"
          ],
          "name": "stdout"
        }
      ]
    },
    {
      "cell_type": "markdown",
      "metadata": {
        "id": "uxH68ihQfnXK"
      },
      "source": [
        "Exercício 21\n"
      ]
    },
    {
      "cell_type": "code",
      "metadata": {
        "colab": {
          "base_uri": "https://localhost:8080/"
        },
        "id": "KpmfeNNnfo-2",
        "outputId": "86e8fabc-a682-42d6-b968-601535008b6e"
      },
      "source": [
        "saque = 299\n",
        "\n",
        "notas_de_100 = notas_de_50 = notas_de_10 = notas_de_5 = notas_de_1 = 0\n",
        "\n",
        "notas_de_100, saque = divmod(saque, 100)\n",
        "\n",
        "notas_de_50, saque = divmod(saque, 50)\n",
        "\n",
        "notas_de_10, saque = divmod(saque, 10)\n",
        "\n",
        "notas_de_5, notas_de_1 = divmod(saque, 5)\n",
        "\n",
        "if notas_de_100 > 0:\n",
        "  print(f'{notas_de_100} nota(s) de 100')\n",
        "\n",
        "if notas_de_50 > 0:\n",
        "  print(f'{notas_de_50} nota(s) de 50')\n",
        "\n",
        "if notas_de_10 > 0:\n",
        "  print(f'{notas_de_10} nota(s) de 10')\n",
        "\n",
        "if notas_de_5 > 0:\n",
        "  print(f'{notas_de_5} nota(s) de 5')\n",
        "\n",
        "if notas_de_1 > 0:\n",
        "  print(f'{notas_de_1} nota(s) de 1')\n"
      ],
      "execution_count": null,
      "outputs": [
        {
          "output_type": "stream",
          "text": [
            "2 nota(s) de 100\n",
            "1 nota(s) de 50\n",
            "4 nota(s) de 10\n",
            "1 nota(s) de 5\n",
            "4 nota(s) de 1\n"
          ],
          "name": "stdout"
        }
      ]
    },
    {
      "cell_type": "markdown",
      "metadata": {
        "id": "iTSeKeakOYmu"
      },
      "source": [
        "# [Estruturas de Repetição](https://wiki.python.org.br/EstruturaDeRepeticao)"
      ]
    },
    {
      "cell_type": "markdown",
      "metadata": {
        "id": "0ot5VJQ1OgiG"
      },
      "source": [
        "Exercício 1"
      ]
    },
    {
      "cell_type": "code",
      "metadata": {
        "colab": {
          "base_uri": "https://localhost:8080/"
        },
        "id": "8o-QNtVeOf8x",
        "outputId": "eebbf9f4-6527-4df0-d65f-6a60b7a56daf"
      },
      "source": [
        "while True:\n",
        "  try:\n",
        "    numero = int(input('digite um valor de 0 a 10: '))\n",
        "  except ValueError:\n",
        "    print('Deve ser fornecido um valor inteiro')\n",
        "  else:\n",
        "    if 0<= numero <= 10:\n",
        "      print(f'Número informado é: {numero}')\n",
        "      break\n",
        "    else:\n",
        "      print('O número deve estar entre 0 e 10')\n"
      ],
      "execution_count": null,
      "outputs": [
        {
          "output_type": "stream",
          "text": [
            "digite um valor de 0 a 10: aaa\n",
            "Deve ser fornecido um valor inteiro\n",
            "digite um valor de 0 a 10: -1\n",
            "O número deve estar entre 0 e 10\n",
            "digite um valor de 0 a 10: 11\n",
            "O número deve estar entre 0 e 10\n",
            "digite um valor de 0 a 10: 5\n",
            "Número informado é: 5\n"
          ],
          "name": "stdout"
        }
      ]
    },
    {
      "cell_type": "markdown",
      "metadata": {
        "id": "SqZlgLNOtN6_"
      },
      "source": [
        "Exercício 4\n"
      ]
    },
    {
      "cell_type": "code",
      "metadata": {
        "colab": {
          "base_uri": "https://localhost:8080/"
        },
        "id": "4SiEbGm3tTv3",
        "outputId": "6e2113a6-9fe0-49cf-b24c-e610a89b51eb"
      },
      "source": [
        "populacao_a= 80_000\n",
        "populacao_b = 200_000\n",
        "taxa_de_crescimento_de_a = 1.03\n",
        "taxa_de_crescimento_de_b = 1.015\n",
        "anos=0\n",
        "\n",
        "while populacao_a < populacao_b:\n",
        "  #print(f'######## Populações no ano {anos}')\n",
        "  #print(f'População de A: {populacao_a}')\n",
        "  #print(f'População de B: {populacao_b}')\n",
        "  anos += 1\n",
        "  populacao_a = int(populacao_a * taxa_de_crescimento_de_a)\n",
        "  populacao_b *= taxa_de_crescimento_de_b\n",
        "  populacao_b = int(populacao_b)\n",
        "\n",
        "print(f'######## Populações no ano {anos}')\n",
        "print(f'População de A: {populacao_a}')\n",
        "print(f'População de B: {populacao_b}')"
      ],
      "execution_count": null,
      "outputs": [
        {
          "output_type": "stream",
          "text": [
            "######## Populações no ano 63\n",
            "População de A: 514954\n",
            "População de B: 510908\n"
          ],
          "name": "stdout"
        }
      ]
    },
    {
      "cell_type": "markdown",
      "metadata": {
        "id": "4thc1gpk4rLD"
      },
      "source": [
        "Exercício 7"
      ]
    },
    {
      "cell_type": "code",
      "metadata": {
        "colab": {
          "base_uri": "https://localhost:8080/"
        },
        "id": "JtO-3RdRDSS6",
        "outputId": "9118b754-edc1-494d-9035-4438a23cb6a2"
      },
      "source": [
        "maximo = float(input('Digito um  número: '))\n",
        "\n",
        "for _ in range(4):\n",
        "  maximo = max(maximo, float(input('Digito um  número: ')))\n",
        "  print(f'Número máximo encontrado até agora é: {maximo}')"
      ],
      "execution_count": null,
      "outputs": [
        {
          "output_type": "stream",
          "text": [
            "Digito um  número: -1\n",
            "Digito um  número: 2\n",
            "Número máximo encontrado até agora é: 2.0\n",
            "Digito um  número: 100\n",
            "Número máximo encontrado até agora é: 100.0\n",
            "Digito um  número: 70\n",
            "Número máximo encontrado até agora é: 100.0\n",
            "Digito um  número: 1000\n",
            "Número máximo encontrado até agora é: 1000.0\n"
          ],
          "name": "stdout"
        }
      ]
    },
    {
      "cell_type": "markdown",
      "metadata": {
        "id": "wCBlTJflS-2a"
      },
      "source": [
        "Exercício 7\n",
        "\n"
      ]
    },
    {
      "cell_type": "code",
      "metadata": {
        "colab": {
          "base_uri": "https://localhost:8080/"
        },
        "id": "HuttJGEzTD8X",
        "outputId": "248d05f0-1fc1-44f1-b3c8-20bf2d3cdc08"
      },
      "source": [
        "soma = float(input('Digito um  número: '))\n",
        "\n",
        "for n in range(2, 6):\n",
        "  soma += float(input('Digito um  número: '))\n",
        "  media = soma / n\n",
        "  print(f'A soma dos números é {soma}, e a média é {media}')"
      ],
      "execution_count": null,
      "outputs": [
        {
          "output_type": "stream",
          "text": [
            "Digito um  número: 2\n",
            "Digito um  número: 4\n",
            "A soma dos números é 6.0, e a média é 3.0\n",
            "Digito um  número: 2\n",
            "A soma dos números é 8.0, e a média é 2.6666666666666665\n",
            "Digito um  número: 4\n",
            "A soma dos números é 12.0, e a média é 3.0\n",
            "Digito um  número: 100\n",
            "A soma dos números é 112.0, e a média é 22.4\n"
          ],
          "name": "stdout"
        }
      ]
    },
    {
      "cell_type": "markdown",
      "metadata": {
        "id": "W9MoqfyhX2xy"
      },
      "source": [
        "# [Listas](https://wiki.python.org.br/ExerciciosListas)"
      ]
    },
    {
      "cell_type": "code",
      "metadata": {
        "colab": {
          "base_uri": "https://localhost:8080/"
        },
        "id": "Y8gEYCp3X6bg",
        "outputId": "b31dac45-dcd0-4a1c-ff64-2a01350d2a72"
      },
      "source": [
        "lista = [1, 2, 'Renzo', []]\n",
        "lista.append(10)\n",
        "print(lista)"
      ],
      "execution_count": null,
      "outputs": [
        {
          "output_type": "stream",
          "text": [
            "[1, 2, 'Renzo', [], 10]\n"
          ],
          "name": "stdout"
        }
      ]
    },
    {
      "cell_type": "markdown",
      "metadata": {
        "id": "2Tsgb2Z4X63i"
      },
      "source": [
        "Exercício 1"
      ]
    },
    {
      "cell_type": "code",
      "metadata": {
        "id": "gkCIsd50Y7yz",
        "colab": {
          "base_uri": "https://localhost:8080/",
          "height": 566
        },
        "outputId": "aa6e3d6f-02c8-4b2a-bc36-6c21ec5d0750"
      },
      "source": [
        "lista =[]\n",
        "for _ in range(5):\n",
        "  numero = float(input('Digite um número: '))\n",
        "  lista.append(numero)\n",
        "print(lista)"
      ],
      "execution_count": null,
      "outputs": [
        {
          "output_type": "error",
          "ename": "KeyboardInterrupt",
          "evalue": "ignored",
          "traceback": [
            "\u001b[0;31m---------------------------------------------------------------------------\u001b[0m",
            "\u001b[0;31mKeyboardInterrupt\u001b[0m                         Traceback (most recent call last)",
            "\u001b[0;32m/usr/local/lib/python3.7/dist-packages/ipykernel/kernelbase.py\u001b[0m in \u001b[0;36m_input_request\u001b[0;34m(self, prompt, ident, parent, password)\u001b[0m\n\u001b[1;32m    728\u001b[0m             \u001b[0;32mtry\u001b[0m\u001b[0;34m:\u001b[0m\u001b[0;34m\u001b[0m\u001b[0;34m\u001b[0m\u001b[0m\n\u001b[0;32m--> 729\u001b[0;31m                 \u001b[0mident\u001b[0m\u001b[0;34m,\u001b[0m \u001b[0mreply\u001b[0m \u001b[0;34m=\u001b[0m \u001b[0mself\u001b[0m\u001b[0;34m.\u001b[0m\u001b[0msession\u001b[0m\u001b[0;34m.\u001b[0m\u001b[0mrecv\u001b[0m\u001b[0;34m(\u001b[0m\u001b[0mself\u001b[0m\u001b[0;34m.\u001b[0m\u001b[0mstdin_socket\u001b[0m\u001b[0;34m,\u001b[0m \u001b[0;36m0\u001b[0m\u001b[0;34m)\u001b[0m\u001b[0;34m\u001b[0m\u001b[0;34m\u001b[0m\u001b[0m\n\u001b[0m\u001b[1;32m    730\u001b[0m             \u001b[0;32mexcept\u001b[0m \u001b[0mException\u001b[0m\u001b[0;34m:\u001b[0m\u001b[0;34m\u001b[0m\u001b[0;34m\u001b[0m\u001b[0m\n",
            "\u001b[0;32m/usr/local/lib/python3.7/dist-packages/jupyter_client/session.py\u001b[0m in \u001b[0;36mrecv\u001b[0;34m(self, socket, mode, content, copy)\u001b[0m\n\u001b[1;32m    802\u001b[0m         \u001b[0;32mtry\u001b[0m\u001b[0;34m:\u001b[0m\u001b[0;34m\u001b[0m\u001b[0;34m\u001b[0m\u001b[0m\n\u001b[0;32m--> 803\u001b[0;31m             \u001b[0mmsg_list\u001b[0m \u001b[0;34m=\u001b[0m \u001b[0msocket\u001b[0m\u001b[0;34m.\u001b[0m\u001b[0mrecv_multipart\u001b[0m\u001b[0;34m(\u001b[0m\u001b[0mmode\u001b[0m\u001b[0;34m,\u001b[0m \u001b[0mcopy\u001b[0m\u001b[0;34m=\u001b[0m\u001b[0mcopy\u001b[0m\u001b[0;34m)\u001b[0m\u001b[0;34m\u001b[0m\u001b[0;34m\u001b[0m\u001b[0m\n\u001b[0m\u001b[1;32m    804\u001b[0m         \u001b[0;32mexcept\u001b[0m \u001b[0mzmq\u001b[0m\u001b[0;34m.\u001b[0m\u001b[0mZMQError\u001b[0m \u001b[0;32mas\u001b[0m \u001b[0me\u001b[0m\u001b[0;34m:\u001b[0m\u001b[0;34m\u001b[0m\u001b[0;34m\u001b[0m\u001b[0m\n",
            "\u001b[0;32m/usr/local/lib/python3.7/dist-packages/zmq/sugar/socket.py\u001b[0m in \u001b[0;36mrecv_multipart\u001b[0;34m(self, flags, copy, track)\u001b[0m\n\u001b[1;32m    582\u001b[0m         \"\"\"\n\u001b[0;32m--> 583\u001b[0;31m         \u001b[0mparts\u001b[0m \u001b[0;34m=\u001b[0m \u001b[0;34m[\u001b[0m\u001b[0mself\u001b[0m\u001b[0;34m.\u001b[0m\u001b[0mrecv\u001b[0m\u001b[0;34m(\u001b[0m\u001b[0mflags\u001b[0m\u001b[0;34m,\u001b[0m \u001b[0mcopy\u001b[0m\u001b[0;34m=\u001b[0m\u001b[0mcopy\u001b[0m\u001b[0;34m,\u001b[0m \u001b[0mtrack\u001b[0m\u001b[0;34m=\u001b[0m\u001b[0mtrack\u001b[0m\u001b[0;34m)\u001b[0m\u001b[0;34m]\u001b[0m\u001b[0;34m\u001b[0m\u001b[0;34m\u001b[0m\u001b[0m\n\u001b[0m\u001b[1;32m    584\u001b[0m         \u001b[0;31m# have first part already, only loop while more to receive\u001b[0m\u001b[0;34m\u001b[0m\u001b[0;34m\u001b[0m\u001b[0;34m\u001b[0m\u001b[0m\n",
            "\u001b[0;32mzmq/backend/cython/socket.pyx\u001b[0m in \u001b[0;36mzmq.backend.cython.socket.Socket.recv\u001b[0;34m()\u001b[0m\n",
            "\u001b[0;32mzmq/backend/cython/socket.pyx\u001b[0m in \u001b[0;36mzmq.backend.cython.socket.Socket.recv\u001b[0;34m()\u001b[0m\n",
            "\u001b[0;32mzmq/backend/cython/socket.pyx\u001b[0m in \u001b[0;36mzmq.backend.cython.socket._recv_copy\u001b[0;34m()\u001b[0m\n",
            "\u001b[0;32m/usr/local/lib/python3.7/dist-packages/zmq/backend/cython/checkrc.pxd\u001b[0m in \u001b[0;36mzmq.backend.cython.checkrc._check_rc\u001b[0;34m()\u001b[0m\n",
            "\u001b[0;31mKeyboardInterrupt\u001b[0m: ",
            "\nDuring handling of the above exception, another exception occurred:\n",
            "\u001b[0;31mKeyboardInterrupt\u001b[0m                         Traceback (most recent call last)",
            "\u001b[0;32m<ipython-input-1-14f164799be7>\u001b[0m in \u001b[0;36m<module>\u001b[0;34m()\u001b[0m\n\u001b[1;32m      1\u001b[0m \u001b[0mlista\u001b[0m \u001b[0;34m=\u001b[0m\u001b[0;34m[\u001b[0m\u001b[0;34m]\u001b[0m\u001b[0;34m\u001b[0m\u001b[0;34m\u001b[0m\u001b[0m\n\u001b[1;32m      2\u001b[0m \u001b[0;32mfor\u001b[0m \u001b[0m_\u001b[0m \u001b[0;32min\u001b[0m \u001b[0mrange\u001b[0m\u001b[0;34m(\u001b[0m\u001b[0;36m5\u001b[0m\u001b[0;34m)\u001b[0m\u001b[0;34m:\u001b[0m\u001b[0;34m\u001b[0m\u001b[0;34m\u001b[0m\u001b[0m\n\u001b[0;32m----> 3\u001b[0;31m   \u001b[0mnumero\u001b[0m \u001b[0;34m=\u001b[0m \u001b[0mfloat\u001b[0m\u001b[0;34m(\u001b[0m\u001b[0minput\u001b[0m\u001b[0;34m(\u001b[0m\u001b[0;34m'Digite um número: '\u001b[0m\u001b[0;34m)\u001b[0m\u001b[0;34m)\u001b[0m\u001b[0;34m\u001b[0m\u001b[0;34m\u001b[0m\u001b[0m\n\u001b[0m\u001b[1;32m      4\u001b[0m   \u001b[0mlista\u001b[0m\u001b[0;34m.\u001b[0m\u001b[0mappend\u001b[0m\u001b[0;34m(\u001b[0m\u001b[0mnumero\u001b[0m\u001b[0;34m)\u001b[0m\u001b[0;34m\u001b[0m\u001b[0;34m\u001b[0m\u001b[0m\n\u001b[1;32m      5\u001b[0m \u001b[0mprint\u001b[0m\u001b[0;34m(\u001b[0m\u001b[0mlista\u001b[0m\u001b[0;34m)\u001b[0m\u001b[0;34m\u001b[0m\u001b[0;34m\u001b[0m\u001b[0m\n",
            "\u001b[0;32m/usr/local/lib/python3.7/dist-packages/ipykernel/kernelbase.py\u001b[0m in \u001b[0;36mraw_input\u001b[0;34m(self, prompt)\u001b[0m\n\u001b[1;32m    702\u001b[0m             \u001b[0mself\u001b[0m\u001b[0;34m.\u001b[0m\u001b[0m_parent_ident\u001b[0m\u001b[0;34m,\u001b[0m\u001b[0;34m\u001b[0m\u001b[0;34m\u001b[0m\u001b[0m\n\u001b[1;32m    703\u001b[0m             \u001b[0mself\u001b[0m\u001b[0;34m.\u001b[0m\u001b[0m_parent_header\u001b[0m\u001b[0;34m,\u001b[0m\u001b[0;34m\u001b[0m\u001b[0;34m\u001b[0m\u001b[0m\n\u001b[0;32m--> 704\u001b[0;31m             \u001b[0mpassword\u001b[0m\u001b[0;34m=\u001b[0m\u001b[0;32mFalse\u001b[0m\u001b[0;34m,\u001b[0m\u001b[0;34m\u001b[0m\u001b[0;34m\u001b[0m\u001b[0m\n\u001b[0m\u001b[1;32m    705\u001b[0m         )\n\u001b[1;32m    706\u001b[0m \u001b[0;34m\u001b[0m\u001b[0m\n",
            "\u001b[0;32m/usr/local/lib/python3.7/dist-packages/ipykernel/kernelbase.py\u001b[0m in \u001b[0;36m_input_request\u001b[0;34m(self, prompt, ident, parent, password)\u001b[0m\n\u001b[1;32m    732\u001b[0m             \u001b[0;32mexcept\u001b[0m \u001b[0mKeyboardInterrupt\u001b[0m\u001b[0;34m:\u001b[0m\u001b[0;34m\u001b[0m\u001b[0;34m\u001b[0m\u001b[0m\n\u001b[1;32m    733\u001b[0m                 \u001b[0;31m# re-raise KeyboardInterrupt, to truncate traceback\u001b[0m\u001b[0;34m\u001b[0m\u001b[0;34m\u001b[0m\u001b[0;34m\u001b[0m\u001b[0m\n\u001b[0;32m--> 734\u001b[0;31m                 \u001b[0;32mraise\u001b[0m \u001b[0mKeyboardInterrupt\u001b[0m\u001b[0;34m\u001b[0m\u001b[0;34m\u001b[0m\u001b[0m\n\u001b[0m\u001b[1;32m    735\u001b[0m             \u001b[0;32melse\u001b[0m\u001b[0;34m:\u001b[0m\u001b[0;34m\u001b[0m\u001b[0;34m\u001b[0m\u001b[0m\n\u001b[1;32m    736\u001b[0m                 \u001b[0;32mbreak\u001b[0m\u001b[0;34m\u001b[0m\u001b[0;34m\u001b[0m\u001b[0m\n",
            "\u001b[0;31mKeyboardInterrupt\u001b[0m: "
          ]
        }
      ]
    },
    {
      "cell_type": "markdown",
      "metadata": {
        "id": "DVO33lMtZS-e"
      },
      "source": [
        "Exercício 2"
      ]
    },
    {
      "cell_type": "code",
      "metadata": {
        "colab": {
          "base_uri": "https://localhost:8080/"
        },
        "id": "ov1Lis12Zb2l",
        "outputId": "800b4bf6-c87d-4809-f917-2db377cbc61d"
      },
      "source": [
        "lista =[]\n",
        "for _ in range(10):\n",
        "  numero = float(input('Digite um número: '))\n",
        "  lista.append(numero)\n",
        "\n",
        "lista.reverse() \n",
        "print(lista)"
      ],
      "execution_count": null,
      "outputs": [
        {
          "output_type": "stream",
          "text": [
            "Digite um número: 2.3\n",
            "Digite um número: 5\n",
            "Digite um número: 8\n",
            "[8.0, 5.0, 2.3]\n"
          ],
          "name": "stdout"
        }
      ]
    },
    {
      "cell_type": "markdown",
      "metadata": {
        "id": "VRZD8-fzf50-"
      },
      "source": [
        "Exercício 15"
      ]
    },
    {
      "cell_type": "code",
      "metadata": {
        "colab": {
          "base_uri": "https://localhost:8080/"
        },
        "id": "31YIEVUyf9JV",
        "outputId": "6ab5f167-eca1-406d-f3c2-d9af98fedd7b"
      },
      "source": [
        "notas = []\n",
        "\n",
        "while True:\n",
        "  entrada = input('Digite um número: ')\n",
        "  if entrada == '-1':\n",
        "    break\n",
        "  notas.append(float(entrada))\n",
        "\n",
        "\n",
        "tamanho = len(notas)\n",
        "print(f'Foram lidas {tamanho} notas')\n",
        "print(' '.join([str(nota) for nota in notas]))\n",
        "notas.reverse()\n",
        "\n",
        "for nota in notas:\n",
        "  print(nota)\n",
        "\n",
        "soma = sum(notas)\n",
        "\n",
        "print(f'Soma das notas é: {soma}')\n",
        "\n",
        "media = soma / tamanho\n",
        "\n",
        "print(f'A média das das notas é: {media}')\n",
        "\n",
        "print('Notas acima da média: ')\n",
        "\n",
        "print(' '.join([str(nota) for nota in notas if nota > media ]))\n",
        "\n",
        "print('Notas abaixo de 7: ')\n",
        "print(' '.join([str(nota) for nota in notas if nota < 7 ]))\n",
        "\n",
        "print('Encerrado programa de estatística de notas')\n"
      ],
      "execution_count": null,
      "outputs": [
        {
          "output_type": "stream",
          "text": [
            "Digite um número: 10\n",
            "Digite um número: 5\n",
            "Digite um número: 1\n",
            "Digite um número: -1\n",
            "Foram lidas 3 notas\n",
            "10.0 5.0 1.0\n",
            "1.0\n",
            "5.0\n",
            "10.0\n",
            "Soma das notas é: 16.0\n",
            "A média das das notas é: 5.333333333333333\n",
            "Notas acima da média: \n",
            "10.0\n",
            "Notas abaixo de 7: \n",
            "1.0 5.0\n",
            "Encerrado programa de estatística de notas\n"
          ],
          "name": "stdout"
        }
      ]
    },
    {
      "cell_type": "markdown",
      "metadata": {
        "id": "QVJx0sAvusMF"
      },
      "source": [
        "Exercício 16"
      ]
    },
    {
      "cell_type": "code",
      "metadata": {
        "colab": {
          "base_uri": "https://localhost:8080/"
        },
        "id": "t0EwigDwutep",
        "outputId": "9a3eaa78-878a-42f0-d411-cf83a80d8c86"
      },
      "source": [
        "salarios =[200, 250, 320, 413, 516, 680, 791, 877, 999, 1000, 2000, 3000]\n",
        "contagem_de_faixa_salarial = [0] * 9\n",
        "for salario in salarios:\n",
        "  indice = salario // 100 -2\n",
        "  indice_maximo = len(contagem_de_faixa_salarial) - 1\n",
        "  indice = min(indice, indice_maximo)\n",
        "  contagem_de_faixa_salarial[indice] += 1\n",
        "\n",
        "print(contagem_de_faixa_salarial)"
      ],
      "execution_count": null,
      "outputs": [
        {
          "output_type": "stream",
          "text": [
            "[2, 1, 1, 1, 1, 1, 1, 1, 3]\n"
          ],
          "name": "stdout"
        }
      ]
    },
    {
      "cell_type": "markdown",
      "metadata": {
        "id": "TQjTXs1B3KeY"
      },
      "source": [
        "# [Funções](https://wiki.python.org.br/ExerciciosFuncoes) "
      ]
    },
    {
      "cell_type": "markdown",
      "metadata": {
        "id": "db0fuy9f3Pq7"
      },
      "source": [
        "Exercício 1"
      ]
    },
    {
      "cell_type": "code",
      "metadata": {
        "colab": {
          "base_uri": "https://localhost:8080/"
        },
        "id": "aYW2jJn93PKf",
        "outputId": "0e5c6a88-418e-49ab-9dca-aa25cb92dd32"
      },
      "source": [
        "def imprimir_triangulo_de_numeros(n: int):\n",
        "  for i in range(1, n + 1):\n",
        "    for _ in range(i):\n",
        "      print(i, end= '   ')\n",
        "    print('')\n",
        "\n",
        "print('Triangulo com 1')\n",
        "imprimir_triangulo_de_numeros(1)\n",
        "print('Triangulo com 2')\n",
        "imprimir_triangulo_de_numeros(2)\n",
        "print('Triangulo com 3')\n",
        "imprimir_triangulo_de_numeros(3)"
      ],
      "execution_count": null,
      "outputs": [
        {
          "output_type": "stream",
          "text": [
            "Triangulo com 1\n",
            "1   \n",
            "Triangulo com 2\n",
            "1   \n",
            "2   2   \n",
            "Triangulo com 3\n",
            "1   \n",
            "2   2   \n",
            "3   3   3   \n"
          ],
          "name": "stdout"
        }
      ]
    },
    {
      "cell_type": "markdown",
      "metadata": {
        "id": "uEb_LpPxC371"
      },
      "source": [
        "Exercício 2"
      ]
    },
    {
      "cell_type": "code",
      "metadata": {
        "id": "8I_oCTqcC6Ia",
        "colab": {
          "base_uri": "https://localhost:8080/"
        },
        "outputId": "a3e2b12b-08c2-4bde-d32e-a456d1eb6da9"
      },
      "source": [
        "def imprimir_triangulo_de_numeros_crescentes(n: int):\n",
        "  for linha in range(1, n + 1):\n",
        "    for coluna in range(1, linha +1):\n",
        "      print(coluna, end= '   ')\n",
        "    print('')\n",
        "\n",
        "print('Triangulo com 1')\n",
        "imprimir_triangulo_de_numeros_crescentes(1)\n",
        "print('Triangulo com 2')\n",
        "imprimir_triangulo_de_numeros_crescentes(2)\n",
        "print('Triangulo com 3')\n",
        "imprimir_triangulo_de_numeros_crescentes(3)"
      ],
      "execution_count": null,
      "outputs": [
        {
          "output_type": "stream",
          "text": [
            "Triangulo com 1\n",
            "1   \n",
            "Triangulo com 2\n",
            "1   \n",
            "1   2   \n",
            "Triangulo com 3\n",
            "1   \n",
            "1   2   \n",
            "1   2   3   \n"
          ],
          "name": "stdout"
        }
      ]
    },
    {
      "cell_type": "markdown",
      "metadata": {
        "id": "miSGmursWh39"
      },
      "source": [
        "# [Strings](https://wiki.python.org.br/ExerciciosComStrings)"
      ]
    },
    {
      "cell_type": "markdown",
      "metadata": {
        "id": "jNeSJlHnWoS6"
      },
      "source": [
        "Exercício 1\n"
      ]
    },
    {
      "cell_type": "code",
      "metadata": {
        "colab": {
          "base_uri": "https://localhost:8080/"
        },
        "id": "upCE5wc1WnmN",
        "outputId": "12b89b15-e8fc-4fef-890f-2112904dd1a7"
      },
      "source": [
        "s1= input('Digite uma string: ')\n",
        "s2 = input('Digite outra string: ')\n",
        "\n",
        "tamanho1 = len(s1)\n",
        "tamanho2 = len(s2)\n",
        "\n",
        "print(f'\"{s1}\": {tamanho1} caracteres')\n",
        "print(f'\"{s2}\": {tamanho2} caracteres')\n",
        "\n",
        "comparacao_de_tamanho = 'diferentes'\n",
        "comparacao_de_conteudo = 'diferente'\n",
        "\n",
        "if s1 == s2:\n",
        "  comparacao_de_tamanho = 'iguais'\n",
        "  comparacao_de_conteudo = 'igual'\n",
        "elif tamanho1 == tamanho2:\n",
        "  comparacao_de_tamanho = 'iguais'\n",
        "\n",
        "print(f'As duas strings são de tamanhos {comparacao_de_tamanho}.')\n",
        "print(f'As duas strings possuem conteúdo {comparacao_de_conteudo}.')"
      ],
      "execution_count": null,
      "outputs": [
        {
          "output_type": "stream",
          "text": [
            "Digite uma string: Renzo\n",
            "Digite outra string: Nuccitelli\n",
            "\"Renzo\": 5 caracteres\n",
            "\"Nuccitelli\": 10 caracteres\n",
            "As duas strings são de tamanhos diferentes.\n",
            "As duas strings possuem conteúdo diferente.\n"
          ],
          "name": "stdout"
        }
      ]
    },
    {
      "cell_type": "markdown",
      "metadata": {
        "id": "q7qSFc3bfqxN"
      },
      "source": [
        "Exercício 2:\n",
        "\n"
      ]
    },
    {
      "cell_type": "code",
      "metadata": {
        "colab": {
          "base_uri": "https://localhost:8080/"
        },
        "id": "sA1wuHR_fuR0",
        "outputId": "9f1cb794-f7cc-4393-a6c1-536d129bfc2c"
      },
      "source": [
        "nome = 'Renzo dos Santos Nuccitelli'.upper()\n",
        "\n",
        "nome_invertido_por_letras = ''.join(reversed(nome))\n",
        "\n",
        "nome_invertido_por_palavras= ' '.join(reversed(nome.split()))\n",
        "\n",
        "print(f'Nome com letras em maiúsculo: {nome}')\n",
        "print(f'Nome com letras em maiúsculo invertido por letras: {nome_invertido_por_letras}')\n",
        "print(f'Nome com letras em maiúsculo invertido por palavras: {nome_invertido_por_palavras}')"
      ],
      "execution_count": null,
      "outputs": [
        {
          "output_type": "stream",
          "text": [
            "Nome com letras em maiúsculo: RENZO DOS SANTOS NUCCITELLI\n",
            "Nome com letras em maiúsculo invertido por letras: ILLETICCUN SOTNAS SOD OZNER\n",
            "Nome com letras em maiúsculo invertido por palavras: NUCCITELLI SANTOS DOS RENZO\n"
          ],
          "name": "stdout"
        }
      ]
    },
    {
      "cell_type": "markdown",
      "metadata": {
        "id": "9cAoMyh5qOjZ"
      },
      "source": [
        "Exercício 11"
      ]
    },
    {
      "cell_type": "code",
      "metadata": {
        "colab": {
          "base_uri": "https://localhost:8080/"
        },
        "id": "CL92B5sLqQzX",
        "outputId": "dd0fe48b-7fd0-4f0e-ee8a-494892b4c06a"
      },
      "source": [
        "palavra = 'DevPro'.upper()\n",
        "\n",
        "print('Jogo da Forca')\n",
        "print('Descubra a palavra')\n",
        "\n",
        "print('A palavra é: ', end='')\n",
        "for letra in palavra:\n",
        "  print('_ ', end='')\n",
        "\n",
        "conjunto_letras_palavra = set(palavra)\n",
        "conjunto_letras_digitadas = set()\n",
        "erros = 0\n",
        "\n",
        "while (not conjunto_letras_palavra.issubset(conjunto_letras_digitadas)) and erros < 7:\n",
        "  print()\n",
        "  print()\n",
        "  letra_digitada = input('Digite uma letra: ').upper()\n",
        "  conjunto_letras_digitadas.add(letra_digitada)\n",
        "  if letra_digitada in conjunto_letras_palavra:\n",
        "    print('A palavra é: ', end='')\n",
        "    for letra in palavra:\n",
        "      if letra in conjunto_letras_digitadas:\n",
        "        print(f'{letra} ', end='')\n",
        "      else:\n",
        "        print('_ ', end='')\n",
        "  else:\n",
        "    erros += 1\n",
        "    print(f'-> Erro {erros} de 6. Tente de novo!')\n",
        "\n",
        "\n",
        "  print()\n",
        "  print('Letras já digitadas: ', conjunto_letras_digitadas)\n",
        "\n",
        "if erros < 7:\n",
        "  print('Parabéns, você ganhou!')\n",
        "else:\n",
        "  print('Infelizmente você perdeu!')"
      ],
      "execution_count": null,
      "outputs": [
        {
          "output_type": "stream",
          "text": [
            "Jogo da Forca\n",
            "Descubra a palavra\n",
            "A palavra é: _ _ _ _ _ _ \n",
            "\n",
            "Digite uma letra: x\n",
            "-> Erro 1 de 6. Tente de novo!\n",
            "\n",
            "Letras já digitadas:  {'X'}\n",
            "\n",
            "\n",
            "Digite uma letra: x\n",
            "-> Erro 2 de 6. Tente de novo!\n",
            "\n",
            "Letras já digitadas:  {'X'}\n",
            "\n",
            "\n",
            "Digite uma letra: x\n",
            "-> Erro 3 de 6. Tente de novo!\n",
            "\n",
            "Letras já digitadas:  {'X'}\n",
            "\n",
            "\n",
            "Digite uma letra: x\n",
            "-> Erro 4 de 6. Tente de novo!\n",
            "\n",
            "Letras já digitadas:  {'X'}\n",
            "\n",
            "\n",
            "Digite uma letra: x\n",
            "-> Erro 5 de 6. Tente de novo!\n",
            "\n",
            "Letras já digitadas:  {'X'}\n",
            "\n",
            "\n",
            "Digite uma letra: x\n",
            "-> Erro 6 de 6. Tente de novo!\n",
            "\n",
            "Letras já digitadas:  {'X'}\n",
            "\n",
            "\n",
            "Digite uma letra: x\n",
            "-> Erro 7 de 6. Tente de novo!\n",
            "\n",
            "Letras já digitadas:  {'X'}\n",
            "Infelizmente você perdeu!\n"
          ],
          "name": "stdout"
        }
      ]
    },
    {
      "cell_type": "code",
      "metadata": {
        "colab": {
          "base_uri": "https://localhost:8080/"
        },
        "id": "Ybs7MeS6vljJ",
        "outputId": "078e3bf1-efa6-403a-b89c-179796a2cefc"
      },
      "source": [
        "not True, not False, "
      ],
      "execution_count": null,
      "outputs": [
        {
          "output_type": "execute_result",
          "data": {
            "text/plain": [
              "(False, True)"
            ]
          },
          "metadata": {
            "tags": []
          },
          "execution_count": 30
        }
      ]
    },
    {
      "cell_type": "code",
      "metadata": {
        "colab": {
          "base_uri": "https://localhost:8080/"
        },
        "id": "bizLLXnZvuYZ",
        "outputId": "27bef81d-0fdc-4b6f-cae3-2f594e8964f1"
      },
      "source": [
        "True and True, True and False, False and True, False and False"
      ],
      "execution_count": null,
      "outputs": [
        {
          "output_type": "execute_result",
          "data": {
            "text/plain": [
              "(True, False, False, False)"
            ]
          },
          "metadata": {
            "tags": []
          },
          "execution_count": 2
        }
      ]
    },
    {
      "cell_type": "markdown",
      "metadata": {
        "id": "M3aNdbPFOkiz"
      },
      "source": [
        "Exercício 5"
      ]
    },
    {
      "cell_type": "code",
      "metadata": {
        "colab": {
          "base_uri": "https://localhost:8080/"
        },
        "id": "5Fd2A3X-On5K",
        "outputId": "4f99ef8e-869a-41ea-8a23-78e8bb1623ed"
      },
      "source": [
        "s = 'FULANO'\n",
        "while s != '':\n",
        "  print(s)\n",
        "  s = s[:-1]"
      ],
      "execution_count": null,
      "outputs": [
        {
          "output_type": "stream",
          "text": [
            "FULANO\n",
            "FULAN\n",
            "FULA\n",
            "FUL\n",
            "FU\n",
            "F\n"
          ],
          "name": "stdout"
        }
      ]
    },
    {
      "cell_type": "markdown",
      "metadata": {
        "id": "rWnX1xoGh5qR"
      },
      "source": [
        "# [Exercícios de Arquivos](https://wiki.python.org.br/ExerciciosArquivos)"
      ]
    },
    {
      "cell_type": "markdown",
      "metadata": {
        "id": "rN7we-pyh_eX"
      },
      "source": [
        "Exercício 1\n"
      ]
    },
    {
      "cell_type": "code",
      "metadata": {
        "id": "fofpLg6Ch-1_",
        "colab": {
          "base_uri": "https://localhost:8080/",
          "height": 247
        },
        "outputId": "7b68cd54-c1e6-49ed-ef9f-338ce5d3198d"
      },
      "source": [
        "def validar(ip:str) -> bool:\n",
        "  numeros = ip.split('.')\n",
        "\n",
        "  if len(numeros) != 4:\n",
        "    return False\n",
        "\n",
        "  for n in numeros:\n",
        "    if not (0 <= int(n) <= 255):\n",
        "      return False\n",
        "  return True\n",
        "\n",
        "ips_validos = []\n",
        "ips_invalidos = []\n",
        "with open('sample_data/ips.txt', 'r') as arquivo:\n",
        "  for linha in arquivo:\n",
        "    ip = linha.strip()\n",
        "    if validar(ip):\n",
        "      ips_validos.append(ip)\n",
        "    else:\n",
        "      ips_invalidos.append(ip)\n",
        "\n",
        "\n",
        "with open('sample_data/ips_saida.txt', 'w') as arquivo:\n",
        "  arquivo.writelines('[Endereços válidos:]\\n')\n",
        "\n",
        "  for ip in ips_validos:\n",
        "    arquivo.writelines(f'{ip}\\n')\n",
        "\n",
        "  arquivo.writelines('\\n')\n",
        "  arquivo.writelines('\\n')\n",
        "  arquivo.writelines('[Endereços inválidos:]\\n')\n",
        "  \n",
        "  for ip in ips_invalidos:\n",
        "    arquivo.writelines(f'{ip}\\n')\n",
        "\n",
        "\n"
      ],
      "execution_count": null,
      "outputs": [
        {
          "output_type": "error",
          "ename": "FileNotFoundError",
          "evalue": "ignored",
          "traceback": [
            "\u001b[0;31m---------------------------------------------------------------------------\u001b[0m",
            "\u001b[0;31mFileNotFoundError\u001b[0m                         Traceback (most recent call last)",
            "\u001b[0;32m<ipython-input-1-07f03f35526d>\u001b[0m in \u001b[0;36m<module>\u001b[0;34m()\u001b[0m\n\u001b[1;32m     12\u001b[0m \u001b[0mips_validos\u001b[0m \u001b[0;34m=\u001b[0m \u001b[0;34m[\u001b[0m\u001b[0;34m]\u001b[0m\u001b[0;34m\u001b[0m\u001b[0;34m\u001b[0m\u001b[0m\n\u001b[1;32m     13\u001b[0m \u001b[0mips_invalidos\u001b[0m \u001b[0;34m=\u001b[0m \u001b[0;34m[\u001b[0m\u001b[0;34m]\u001b[0m\u001b[0;34m\u001b[0m\u001b[0;34m\u001b[0m\u001b[0m\n\u001b[0;32m---> 14\u001b[0;31m \u001b[0;32mwith\u001b[0m \u001b[0mopen\u001b[0m\u001b[0;34m(\u001b[0m\u001b[0;34m'sample_data/ips.txt'\u001b[0m\u001b[0;34m,\u001b[0m \u001b[0;34m'r'\u001b[0m\u001b[0;34m)\u001b[0m \u001b[0;32mas\u001b[0m \u001b[0marquivo\u001b[0m\u001b[0;34m:\u001b[0m\u001b[0;34m\u001b[0m\u001b[0;34m\u001b[0m\u001b[0m\n\u001b[0m\u001b[1;32m     15\u001b[0m   \u001b[0;32mfor\u001b[0m \u001b[0mlinha\u001b[0m \u001b[0;32min\u001b[0m \u001b[0marquivo\u001b[0m\u001b[0;34m:\u001b[0m\u001b[0;34m\u001b[0m\u001b[0;34m\u001b[0m\u001b[0m\n\u001b[1;32m     16\u001b[0m     \u001b[0mip\u001b[0m \u001b[0;34m=\u001b[0m \u001b[0mlinha\u001b[0m\u001b[0;34m.\u001b[0m\u001b[0mstrip\u001b[0m\u001b[0;34m(\u001b[0m\u001b[0;34m)\u001b[0m\u001b[0;34m\u001b[0m\u001b[0;34m\u001b[0m\u001b[0m\n",
            "\u001b[0;31mFileNotFoundError\u001b[0m: [Errno 2] No such file or directory: 'sample_data/ips.txt'"
          ]
        }
      ]
    },
    {
      "cell_type": "markdown",
      "metadata": {
        "id": "6zXQZ6Tb9HM8"
      },
      "source": [
        "Exercício 2"
      ]
    },
    {
      "cell_type": "code",
      "metadata": {
        "id": "ViGgwHTJ9Jm0"
      },
      "source": [
        "lista_de_dados=[]\n",
        "\n",
        "def transformar_em_megabytes(tamanho_em_bytes:str) -> float:\n",
        "  return int(tamanho_em_bytes)/ (2**10) **2\n",
        "\n",
        "with open('sample_data/usuarios.txt', 'r') as arquivo:\n",
        "  for linha in arquivo:\n",
        "    linha = linha.strip()\n",
        "    usuario = linha[:15]\n",
        "    tamanho_em_disco = transformar_em_megabytes(linha[16:])\n",
        "    lista_de_dados.append((usuario, tamanho_em_disco))\n",
        "\n",
        "\n",
        "cabecalho='''ACME Inc.               Uso do espaço em disco pelos usuários\n",
        "------------------------------------------------------------------------\n",
        "Nr.  Usuário        Espaço utilizado     % do uso\n",
        "'''\n",
        "\n",
        "with open('sample_data/relatório.txt', 'w') as arquivo:\n",
        "  tamanho_total_consumido = sum([tamanho for _,tamanho in lista_de_dados])\n",
        "  media = tamanho_total_consumido / len(lista_de_dados)\n",
        "  arquivo.writelines(cabecalho)\n",
        "  for indice, dados in enumerate(lista_de_dados, start=1):\n",
        "    usuario, tamanho_em_disco = dados\n",
        "    arquivo.writelines(\n",
        "        f'{indice:<4} {usuario} {tamanho_em_disco:9.2f} MB         '\n",
        "        f'{tamanho_em_disco/tamanho_total_consumido:>6.2%}\\n'\n",
        "        )\n",
        "  arquivo.writelines('\\n')\n",
        "  arquivo.writelines(f'Espaço total ocupado: {tamanho_total_consumido:.2f} MB\\n')\n",
        "  arquivo.writelines(f'Espaço médio ocupado: {media:.2f} MB')"
      ],
      "execution_count": null,
      "outputs": []
    },
    {
      "cell_type": "markdown",
      "metadata": {
        "id": "FCbTOKn6K0di"
      },
      "source": [
        "# [Exercícios com Classes](https://wiki.python.org.br/ExerciciosClasses)"
      ]
    },
    {
      "cell_type": "markdown",
      "metadata": {
        "id": "Z3vFruCMLgc6"
      },
      "source": [
        "Exercício 1"
      ]
    },
    {
      "cell_type": "code",
      "metadata": {
        "colab": {
          "base_uri": "https://localhost:8080/"
        },
        "id": "kW2RgXTCK6AF",
        "outputId": "01957e38-dd1c-42e0-ca27-87b62e86c982"
      },
      "source": [
        "class CirculoPerfeito:\n",
        "  def __init__(self):\n",
        "    self.cor = 'Azul'\n",
        "    self.circuferencia = 4\n",
        "    self.material = 'Papel'\n",
        "\n",
        "  def mostra_cor(self):\n",
        "    return self.cor\n",
        "\n",
        "  def trocar_cor(self, cor):\n",
        "    self.cor = cor\n",
        "\n",
        "circulo_primeiro = CirculoPerfeito()\n",
        "circulo_segundo = CirculoPerfeito()\n",
        "circulo_segundo.trocar_cor('Amarelo')\n",
        "print(type(circulo_primeiro))\n",
        "print(circulo_primeiro is circulo_segundo)\n",
        "print(id(circulo_primeiro), circulo_primeiro.mostra_cor())\n",
        "print(id(circulo_segundo), circulo_segundo.mostra_cor())\n",
        "\n",
        "print(circulo_primeiro.cor, circulo_segundo.cor)\n"
      ],
      "execution_count": null,
      "outputs": [
        {
          "output_type": "stream",
          "text": [
            "<class '__main__.CirculoPerfeito'>\n",
            "False\n",
            "140370596785296 Azul\n",
            "140370596784592 Amarelo\n",
            "Azul Amarelo\n"
          ],
          "name": "stdout"
        }
      ]
    },
    {
      "cell_type": "markdown",
      "metadata": {
        "id": "m2njRoMlQx1-"
      },
      "source": [
        "Exercício 2"
      ]
    },
    {
      "cell_type": "code",
      "metadata": {
        "colab": {
          "base_uri": "https://localhost:8080/"
        },
        "id": "wTpeYzKKQz8W",
        "outputId": "65c41d3e-6f9b-4e6f-a755-523c9277e0ba"
      },
      "source": [
        "class Quadrado:\n",
        "  def __init__(self, lado = 1):\n",
        "    self.lado = lado\n",
        "\n",
        "  def calcular_area(self):\n",
        "    return self.lado ** 2\n",
        "\n",
        "quadrado = Quadrado(4)\n",
        "print(quadrado.lado, quadrado.calcular_area())"
      ],
      "execution_count": null,
      "outputs": [
        {
          "output_type": "stream",
          "text": [
            "4 16\n"
          ],
          "name": "stdout"
        }
      ]
    },
    {
      "cell_type": "markdown",
      "metadata": {
        "id": "ufAgfkQ21ws0"
      },
      "source": [
        "Exercício 4"
      ]
    },
    {
      "cell_type": "code",
      "metadata": {
        "colab": {
          "base_uri": "https://localhost:8080/"
        },
        "id": "R8oETM3z1zrx",
        "outputId": "eb7674e8-15a5-4c93-a94e-d0229182b03a"
      },
      "source": [
        "class Pessoa:\n",
        "  def __init__(self, nome, idade, peso, altura):\n",
        "    self.nome = nome\n",
        "    self.idade = idade\n",
        "    self.peso = peso\n",
        "    self.altura = altura\n",
        "\n",
        "  def envelhecer(self):\n",
        "    if self.idade < 21:\n",
        "      self.altura += 0.5\n",
        "    self.idade += 1\n",
        "\n",
        "otavio = Pessoa('Otavio', 2, 12, 80)\n",
        "\n",
        "for _ in range(22):\n",
        "  otavio.envelhecer()\n",
        "  print(f'Idade de {otavio.nome} é: {otavio.idade} anos. E sua altura é {otavio.altura} cm')"
      ],
      "execution_count": null,
      "outputs": [
        {
          "output_type": "stream",
          "text": [
            "Idade de Otavio é: 3 anos. E sua altura é 80.5 cm\n",
            "Idade de Otavio é: 4 anos. E sua altura é 81.0 cm\n",
            "Idade de Otavio é: 5 anos. E sua altura é 81.5 cm\n",
            "Idade de Otavio é: 6 anos. E sua altura é 82.0 cm\n",
            "Idade de Otavio é: 7 anos. E sua altura é 82.5 cm\n",
            "Idade de Otavio é: 8 anos. E sua altura é 83.0 cm\n",
            "Idade de Otavio é: 9 anos. E sua altura é 83.5 cm\n",
            "Idade de Otavio é: 10 anos. E sua altura é 84.0 cm\n",
            "Idade de Otavio é: 11 anos. E sua altura é 84.5 cm\n",
            "Idade de Otavio é: 12 anos. E sua altura é 85.0 cm\n",
            "Idade de Otavio é: 13 anos. E sua altura é 85.5 cm\n",
            "Idade de Otavio é: 14 anos. E sua altura é 86.0 cm\n",
            "Idade de Otavio é: 15 anos. E sua altura é 86.5 cm\n",
            "Idade de Otavio é: 16 anos. E sua altura é 87.0 cm\n",
            "Idade de Otavio é: 17 anos. E sua altura é 87.5 cm\n",
            "Idade de Otavio é: 18 anos. E sua altura é 88.0 cm\n",
            "Idade de Otavio é: 19 anos. E sua altura é 88.5 cm\n",
            "Idade de Otavio é: 20 anos. E sua altura é 89.0 cm\n",
            "Idade de Otavio é: 21 anos. E sua altura é 89.5 cm\n",
            "Idade de Otavio é: 22 anos. E sua altura é 89.5 cm\n",
            "Idade de Otavio é: 23 anos. E sua altura é 89.5 cm\n",
            "Idade de Otavio é: 24 anos. E sua altura é 89.5 cm\n"
          ],
          "name": "stdout"
        }
      ]
    },
    {
      "cell_type": "markdown",
      "metadata": {
        "id": "MKmfGZC_6NrN"
      },
      "source": [
        "Exercício 10"
      ]
    },
    {
      "cell_type": "code",
      "metadata": {
        "colab": {
          "base_uri": "https://localhost:8080/"
        },
        "id": "q4NVb7zs6O1-",
        "outputId": "898d3024-03e0-4ebf-b074-99501b8e2f07"
      },
      "source": [
        "class BombaCombustivel:\n",
        "  def __init__(self, tipo_combustivel:str, valor_litro: float, quantidade_combustivel: float):\n",
        "    self.valor_litro = valor_litro\n",
        "    self.tipo_combustivel = tipo_combustivel\n",
        "    self.quantidade_combustivel = quantidade_combustivel\n",
        "\n",
        "  def abastecer_por_valor(self, valor:float):\n",
        "    litros_abastecidos = valor / self.valor_litro\n",
        "    self._apresentar_abastecimento_se_possivel(litros_abastecidos, valor)\n",
        "\n",
        "  def _apresentar_abastecimento_se_possivel(self, litros_abastecidos:float, valor:float):\n",
        "    if litros_abastecidos > self.quantidade_combustivel:\n",
        "      print(f'Não é possílve abastecer, faltam {litros_abastecidos - self.quantidade_combustivel:.2f} litros.')\n",
        "      print('Reabasteça a bomba')\n",
        "    else:\n",
        "      self.quantidade_combustivel -= litros_abastecidos\n",
        "      print(f'Foram abastecidos {litros_abastecidos:.2f} litros a um valor de R$ {valor:.2f}.')\n",
        "      print(f'Sobraram na bomba {self.quantidade_combustivel:.2f} litros de {self.tipo_combustivel}.')\n",
        "\n",
        "  def abastecer_por_litros(self, litros_abastecidos:float):\n",
        "    valor =  litros_abastecidos * self.valor_litro\n",
        "    self._apresentar_abastecimento_se_possivel(litros_abastecidos, valor)\n",
        "\n",
        "  def adicionar_mais_combustivel(self, quantidade:float):\n",
        "    if quantidade >= 0:\n",
        "      self.quantidade_combustivel += quantidade\n",
        "    else:\n",
        "      print('Malandrinho, você não vai roubar combustível dessa bomba')\n",
        "\n",
        "\n",
        "bomba = BombaCombustivel('Gasolina', 4.59, 100.0)\n",
        "\n",
        "bomba.abastecer_por_valor(100)\n",
        "\n",
        "bomba.abastecer_por_litros(50)\n",
        "\n",
        "bomba.valor_litro = 5.59\n",
        "bomba.abastecer_por_litros(50)\n",
        "\n",
        "bomba.adicionar_mais_combustivel(100)\n",
        "bomba.abastecer_por_litros(50)\n",
        "\n",
        "bomba.adicionar_mais_combustivel(-100)"
      ],
      "execution_count": null,
      "outputs": [
        {
          "output_type": "stream",
          "text": [
            "Foram abastecidos 21.79 litros a um valor de R$ 100.00.\n",
            "Sobraram na bomba 78.21 litros de Gasolina.\n",
            "Foram abastecidos 50.00 litros a um valor de R$ 229.50.\n",
            "Sobraram na bomba 28.21 litros de Gasolina.\n",
            "Não é possílve abastecer, faltam 21.79 litros.\n",
            "Reabasteça a bomba\n",
            "Foram abastecidos 50.00 litros a um valor de R$ 279.50.\n",
            "Sobraram na bomba 78.21 litros de Gasolina.\n",
            "Malandrinho, você não vai roubar combustível dessa bomba\n"
          ],
          "name": "stdout"
        }
      ]
    },
    {
      "cell_type": "markdown",
      "metadata": {
        "id": "a4XeyXanDRiv"
      },
      "source": [
        "# [Exercícios de Projetos](https://wiki.python.org.br/ListaDeExerciciosProjetos)"
      ]
    },
    {
      "cell_type": "markdown",
      "metadata": {
        "id": "aT3Y5HtHDZPE"
      },
      "source": [
        "Exercício 1"
      ]
    },
    {
      "cell_type": "code",
      "metadata": {
        "colab": {
          "base_uri": "https://localhost:8080/"
        },
        "id": "ijJ9FMlcEBvK",
        "outputId": "87baaf4c-25fd-496b-9f00-bbedd0c58eb8"
      },
      "source": [
        "from random import shuffle\n",
        "\n",
        "numeros = list(range(10))\n",
        "shuffle(numeros)\n",
        "print(numeros)\n",
        "numeros.sort(reverse=True)\n",
        "\n",
        "print(numeros)\n",
        "\n",
        "print((10, 'Renzo') < (11, 'Amanda'))"
      ],
      "execution_count": null,
      "outputs": [
        {
          "output_type": "stream",
          "text": [
            "[7, 2, 0, 1, 4, 3, 9, 8, 6, 5]\n",
            "[9, 8, 7, 6, 5, 4, 3, 2, 1, 0]\n",
            "True\n"
          ],
          "name": "stdout"
        }
      ]
    },
    {
      "cell_type": "code",
      "metadata": {
        "colab": {
          "base_uri": "https://localhost:8080/"
        },
        "id": "E0GuuF53DX_A",
        "outputId": "8cd81f34-a45f-45df-f074-0bcb3713906c"
      },
      "source": [
        "lista_de_dados=[]\n",
        "\n",
        "\n",
        "def transformar_em_megabytes(tamanho_em_bytes:str) -> float:\n",
        "  return int(tamanho_em_bytes)/ (2**10) **2\n",
        "\n",
        "with open('sample_data/usuarios.txt', 'r') as arquivo:\n",
        "  for linha in arquivo:\n",
        "    linha = linha.strip()\n",
        "    usuario = linha[:15]\n",
        "    tamanho_em_disco = transformar_em_megabytes(linha[16:])\n",
        "    lista_de_dados.append((tamanho_em_disco, usuario))\n",
        "\n",
        "\n",
        "cabecalho='''ACME Inc.               Uso do espaço em disco pelos usuários\n",
        "------------------------------------------------------------------------\n",
        "Nr.  Usuário        Espaço utilizado     % do uso\n",
        "'''\n",
        "\n",
        "n = int(input('Digite o numero de usuários a serem exibidos: '))\n",
        "\n",
        "lista_de_dados.sort(reverse=True)\n",
        "lista_de_dados = lista_de_dados[:n]\n",
        "\n",
        "with open('sample_data/relatório.txt', 'w') as arquivo:\n",
        "  tamanho_total_consumido = sum([tamanho for tamanho,_ in lista_de_dados])\n",
        "  media = tamanho_total_consumido / len(lista_de_dados)\n",
        "  arquivo.writelines(cabecalho)\n",
        "  for indice, dados in enumerate(lista_de_dados, start=1):\n",
        "    tamanho_em_disco, usuario  = dados\n",
        "    arquivo.writelines(\n",
        "        f'{indice:<4} {usuario} {tamanho_em_disco:9.2f} MB         '\n",
        "        f'{tamanho_em_disco/tamanho_total_consumido:>6.2%}\\n'\n",
        "        )\n",
        "  arquivo.writelines('\\n')\n",
        "  arquivo.writelines(f'Espaço total ocupado: {tamanho_total_consumido:.2f} MB\\n')\n",
        "  arquivo.writelines(f'Espaço médio ocupado: {media:.2f} MB')"
      ],
      "execution_count": null,
      "outputs": [
        {
          "output_type": "stream",
          "text": [
            "Digite o numero de usuários a serem exibidos: 3\n"
          ],
          "name": "stdout"
        }
      ]
    },
    {
      "cell_type": "code",
      "metadata": {
        "colab": {
          "base_uri": "https://localhost:8080/"
        },
        "id": "ggu1f1eEuaAq",
        "outputId": "1746bdd0-41b8-4e51-c00f-f6528cc72b82"
      },
      "source": [
        "def ler_numero():\n",
        "  while True:\n",
        "    numero_str = input('Digite um número: ')\n",
        "    try:\n",
        "      return float(numero_str)\n",
        "    except ValueError:\n",
        "      print('Valor inválido, repetindo processo')\n",
        "\n",
        "ler_numero()"
      ],
      "execution_count": null,
      "outputs": [
        {
          "output_type": "stream",
          "text": [
            "Digite um número: dsfsfsdf\n",
            "Valor inválido, repetindo processo\n",
            "Digite um número: sdfssfd\n",
            "Valor inválido, repetindo processo\n",
            "Digite um número: sdfsafsf\n",
            "Valor inválido, repetindo processo\n",
            "Digite um número: 7878\n"
          ],
          "name": "stdout"
        },
        {
          "output_type": "execute_result",
          "data": {
            "text/plain": [
              "7878.0"
            ]
          },
          "metadata": {
            "tags": []
          },
          "execution_count": 3
        }
      ]
    }
  ]
}